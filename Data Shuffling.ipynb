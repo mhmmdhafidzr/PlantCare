{
 "cells": [
  {
   "cell_type": "code",
   "execution_count": 1,
   "id": "50f68faa",
   "metadata": {},
   "outputs": [],
   "source": [
    "import os\n",
    "import random\n",
    "import shutil"
   ]
  },
  {
   "cell_type": "code",
   "execution_count": 2,
   "id": "bb17c9b8",
   "metadata": {},
   "outputs": [],
   "source": [
    "dataset_path = './Raw/'\n",
    "\n",
    "train_path = './Dataset2/train/'\n",
    "\n",
    "val_path = './Dataset2/validation/'\n",
    "\n",
    "test_path = './Dataset2/test/'"
   ]
  },
  {
   "cell_type": "code",
   "execution_count": 3,
   "id": "772e4ad1",
   "metadata": {},
   "outputs": [],
   "source": [
    "train_percentage = 0.7\n",
    "validation_percentage = 0.15\n",
    "test_percentage = 0.15"
   ]
  },
  {
   "cell_type": "code",
   "execution_count": 4,
   "id": "f1f9fda1",
   "metadata": {},
   "outputs": [
    {
     "data": {
      "text/plain": [
       "['Apple___Apple_scab',\n",
       " 'Apple___Black_rot',\n",
       " 'Apple___Cedar_apple_rust',\n",
       " 'Apple___healthy',\n",
       " 'Bean___angular_leaf_spot',\n",
       " 'Bean___healthy',\n",
       " 'Bean___rust',\n",
       " 'Blueberry___healthy',\n",
       " 'Cherry_(including_sour)___healthy',\n",
       " 'Cherry_(including_sour)___Powdery_mildew',\n",
       " 'Corn_(maize)___Cercospora_leaf_spot Gray_leaf_spot',\n",
       " 'Corn_(maize)___Common_rust_',\n",
       " 'Corn_(maize)___healthy',\n",
       " 'Corn_(maize)___Northern_Leaf_Blight',\n",
       " 'Grape___Black_rot',\n",
       " 'Grape___Esca_(Black_Measles)',\n",
       " 'Grape___healthy',\n",
       " 'Grape___Leaf_blight_(Isariopsis_Leaf_Spot)',\n",
       " 'Orange___Haunglongbing_(Citrus_greening)',\n",
       " 'Peach___Bacterial_spot',\n",
       " 'Peach___healthy',\n",
       " 'Pepper,_bell___Bacterial_spot',\n",
       " 'Pepper,_bell___healthy',\n",
       " 'Potato___Early_blight',\n",
       " 'Potato___healthy',\n",
       " 'Potato___Late_blight',\n",
       " 'Raspberry___healthy',\n",
       " 'Soybean___healthy',\n",
       " 'Squash___Powdery_mildew',\n",
       " 'Strawberry___healthy',\n",
       " 'Strawberry___Leaf_scorch',\n",
       " 'Tomato___Bacterial_spot',\n",
       " 'Tomato___Early_blight',\n",
       " 'Tomato___healthy',\n",
       " 'Tomato___Late_blight',\n",
       " 'Tomato___Leaf_Mold',\n",
       " 'Tomato___Septoria_leaf_spot',\n",
       " 'Tomato___Spider_mites Two-spotted_spider_mite',\n",
       " 'Tomato___Target_Spot',\n",
       " 'Tomato___Tomato_mosaic_virus',\n",
       " 'Tomato___Tomato_Yellow_Leaf_Curl_Virus']"
      ]
     },
     "execution_count": 4,
     "metadata": {},
     "output_type": "execute_result"
    }
   ],
   "source": [
    "class_folders = os.listdir(dataset_path)\n",
    "\n",
    "class_folders"
   ]
  },
  {
   "cell_type": "code",
   "execution_count": null,
   "id": "d8afda5e",
   "metadata": {},
   "outputs": [],
   "source": [
    "for class_folder in class_folders:\n",
    "    class_folder_path = os.path.join(dataset_path, class_folder)\n",
    "    \n",
    "    # Mendapatkan list file dalam subfolder\n",
    "    files = os.listdir(class_folder_path)\n",
    "    \n",
    "    # Mengacak urutan file\n",
    "    random.shuffle(files)\n",
    "    \n",
    "    # Menghitung jumlah file untuk training dan validation\n",
    "    num_train = int(train_percentage * len(files))\n",
    "    num_validation = int(validation_percentage * len(files))\n",
    "    num_test = int(test_percentage * len(files))\n",
    "    \n",
    "    # Memisahkan file ke dalam folder training\n",
    "    for file in files[:num_train]:\n",
    "        src = os.path.join(class_folder_path, file)\n",
    "        dst = os.path.join(train_path, class_folder)\n",
    "        os.makedirs(dst, exist_ok=True)\n",
    "        shutil.copy(src, dst)\n",
    "    \n",
    "    # Memisahkan file ke dalam folder validation\n",
    "    for file in files[num_train:num_train+num_validation]:\n",
    "        src = os.path.join(class_folder_path, file)\n",
    "        dst = os.path.join(val_path, class_folder)\n",
    "        os.makedirs(dst, exist_ok=True)\n",
    "        shutil.copy(src, dst)\n",
    "        \n",
    "    # Memisahkan file ke dalam folder test\n",
    "    for file in files[num_train+num_validation:]:\n",
    "        src = os.path.join(class_folder_path, file)\n",
    "        dst = os.path.join(test_path, class_folder)\n",
    "        os.makedirs(dst, exist_ok=True)\n",
    "        shutil.copy(src, dst)        "
   ]
  },
  {
   "cell_type": "code",
   "execution_count": null,
   "id": "8ebb11af",
   "metadata": {},
   "outputs": [],
   "source": []
  }
 ],
 "metadata": {
  "kernelspec": {
   "display_name": "Python 3 (ipykernel)",
   "language": "python",
   "name": "python3"
  },
  "language_info": {
   "codemirror_mode": {
    "name": "ipython",
    "version": 3
   },
   "file_extension": ".py",
   "mimetype": "text/x-python",
   "name": "python",
   "nbconvert_exporter": "python",
   "pygments_lexer": "ipython3",
   "version": "3.9.12"
  },
  "toc": {
   "base_numbering": 1,
   "nav_menu": {},
   "number_sections": true,
   "sideBar": true,
   "skip_h1_title": false,
   "title_cell": "Table of Contents",
   "title_sidebar": "Contents",
   "toc_cell": false,
   "toc_position": {},
   "toc_section_display": true,
   "toc_window_display": false
  },
  "varInspector": {
   "cols": {
    "lenName": 16,
    "lenType": 16,
    "lenVar": 40
   },
   "kernels_config": {
    "python": {
     "delete_cmd_postfix": "",
     "delete_cmd_prefix": "del ",
     "library": "var_list.py",
     "varRefreshCmd": "print(var_dic_list())"
    },
    "r": {
     "delete_cmd_postfix": ") ",
     "delete_cmd_prefix": "rm(",
     "library": "var_list.r",
     "varRefreshCmd": "cat(var_dic_list()) "
    }
   },
   "types_to_exclude": [
    "module",
    "function",
    "builtin_function_or_method",
    "instance",
    "_Feature"
   ],
   "window_display": false
  }
 },
 "nbformat": 4,
 "nbformat_minor": 5
}
